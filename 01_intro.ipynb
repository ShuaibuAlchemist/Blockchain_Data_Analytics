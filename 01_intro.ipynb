{
 "cells": [
  {
   "cell_type": "code",
   "execution_count": null,
   "id": "3f5d56a1",
   "metadata": {},
   "outputs": [
    {
     "name": "stdout",
     "output_type": "stream",
     "text": [
      "10\n"
     ]
    }
   ],
   "source": [
    "q = 10\n",
    "print(q)"
   ]
  },
  {
   "cell_type": "code",
   "execution_count": 1,
   "id": "e3b92895",
   "metadata": {},
   "outputs": [
    {
     "data": {
      "text/plain": [
       "['BTC', 'ADA']"
      ]
     },
     "execution_count": 1,
     "metadata": {},
     "output_type": "execute_result"
    }
   ],
   "source": [
    "ls = ['BTC', 'TIA', 'ETH', 'SOL', 'ADA']\n",
    "ls[0::4]"
   ]
  },
  {
   "cell_type": "code",
   "execution_count": 8,
   "id": "d1a85889",
   "metadata": {},
   "outputs": [
    {
     "name": "stdout",
     "output_type": "stream",
     "text": [
      "2\n"
     ]
    }
   ],
   "source": [
    "matrix = [[1,2,3],[4,5,6],[7,8,9]]\n",
    "\n",
    "print(matrix[0][1])"
   ]
  },
  {
   "cell_type": "code",
   "execution_count": null,
   "id": "c5b4864f",
   "metadata": {},
   "outputs": [],
   "source": [
    "wallets = []"
   ]
  },
  {
   "cell_type": "code",
   "execution_count": 9,
   "id": "19b9b7fb",
   "metadata": {},
   "outputs": [
    {
     "name": "stdout",
     "output_type": "stream",
     "text": [
      "CELE\n"
     ]
    }
   ],
   "source": [
    "wallets = {\n",
    "    '0xADC':['ETH', 'BTC', 'SOL'], \n",
    "    '0xGRT':['BTC', 'ADA', 'UNI'], \n",
    "    '0xAED':['BTC', 'TIA', 'UNI'], \n",
    "    '0xJGG':['ETH', 'BTC', 'CELE'], \n",
    "    '0xKIT':['ADA', 'BTC', 'SOL'], \n",
    "    '0xSTU':['ETH', 'BTC', 'SOL']\n",
    "    }\n",
    "print(wallets['0xJGG'][2])"
   ]
  },
  {
   "cell_type": "code",
   "execution_count": 11,
   "id": "bf5a2949",
   "metadata": {},
   "outputs": [
    {
     "name": "stdout",
     "output_type": "stream",
     "text": [
      "56\n"
     ]
    }
   ],
   "source": [
    "user_profile = {'0xKIT':{'name':'Alice', 'balance':23},\n",
    "                '0xKIT':{'name':'Muhammad', 'balance':56}\n",
    "                }\n",
    "print(user_profile['0xKIT']['balance'])"
   ]
  },
  {
   "cell_type": "markdown",
   "id": "fc117a5f",
   "metadata": {},
   "source": [
    "**# Conditional Statements**"
   ]
  },
  {
   "cell_type": "code",
   "execution_count": 7,
   "id": "9d12f48d",
   "metadata": {},
   "outputs": [
    {
     "name": "stdout",
     "output_type": "stream",
     "text": [
      "High balance wallet\n"
     ]
    }
   ],
   "source": [
    "#A wallet balance has $1500 worth of ETH. Check if the balance is greater than $1000 and return information if the balance is High balance wallet or low balance wallet\n",
    "wallet = 1500\n",
    "\n",
    "if wallet > 1000:\n",
    "    print(\"High balance wallet\")\n",
    "elif wallet == 1000:\n",
    "    print(\"Medium balance wallet\")\n",
    "else:\n",
    "    print(\"Low balance wallet\")"
   ]
  },
  {
   "cell_type": "markdown",
   "id": "9c91bbf3",
   "metadata": {},
   "source": [
    "Logical Operators                      "
   ]
  },
  {
   "cell_type": "code",
   "execution_count": null,
   "id": "37616420",
   "metadata": {},
   "outputs": [
    {
     "name": "stdout",
     "output_type": "stream",
     "text": [
      "High balance and verified wallet\n"
     ]
    }
   ],
   "source": [
    "#And Operator\n",
    "balance = 1500\n",
    "verified = True\n",
    "\n",
    "\n",
    "if balance > 1000 and verified:\n",
    "    print(\"High balance and verified wallet\")"
   ]
  },
  {
   "cell_type": "code",
   "execution_count": null,
   "id": "6aa2beb4",
   "metadata": {},
   "outputs": [
    {
     "name": "stdout",
     "output_type": "stream",
     "text": [
      "Passes at least one check\n"
     ]
    }
   ],
   "source": [
    "#Or operator\n",
    "balance =600\n",
    "verified = False\n",
    "\n",
    "\n",
    "if balance > 100 or verified:\n",
    "    print(\"Passes at least one check\")\n",
    "else:\n",
    "    print(\"Fails both checks\")"
   ]
  },
  {
   "cell_type": "code",
   "execution_count": 11,
   "id": "c525d0c9",
   "metadata": {},
   "outputs": [
    {
     "name": "stdout",
     "output_type": "stream",
     "text": [
      "wallet is clean\n"
     ]
    }
   ],
   "source": [
    "#Not operator\n",
    "\n",
    "is_blacklisted = False\n",
    "if not is_blacklisted:\n",
    "    print(\"wallet is clean\")\n",
    "\n"
   ]
  },
  {
   "cell_type": "markdown",
   "id": "df945562",
   "metadata": {},
   "source": [
    "**Loops and Conditional"
   ]
  },
  {
   "cell_type": "code",
   "execution_count": 21,
   "id": "fdaf3042",
   "metadata": {},
   "outputs": [
    {
     "data": {
      "text/plain": [
       "46"
      ]
     },
     "execution_count": 21,
     "metadata": {},
     "output_type": "execute_result"
    }
   ],
   "source": [
    "tokens = ['ETH', 'BTC', 'SOL']\n",
    "ls = [2,4,9,20,11]\n",
    "sum(ls)"
   ]
  },
  {
   "cell_type": "code",
   "execution_count": null,
   "id": "dfded32b",
   "metadata": {},
   "outputs": [
    {
     "name": "stdout",
     "output_type": "stream",
     "text": [
      "BTC 120000\n",
      "ETH 2010\n",
      "SOL 125\n"
     ]
    }
   ],
   "source": [
    "#for loops\n",
    "\n",
    "crypto_prices = {'BTC':120000, 'ETH':2010, 'SOL':125}\n",
    "for i in crypto_prices:\n",
    "    print(i, crypto_prices.get(i))"
   ]
  },
  {
   "cell_type": "code",
   "execution_count": 23,
   "id": "1f007537",
   "metadata": {},
   "outputs": [
    {
     "name": "stdout",
     "output_type": "stream",
     "text": [
      "BTC\n",
      "ETH\n",
      "SOL\n"
     ]
    }
   ],
   "source": [
    "for i in crypto_prices.keys():\n",
    "    print(i)"
   ]
  },
  {
   "cell_type": "code",
   "execution_count": 24,
   "id": "f65e7ef3",
   "metadata": {},
   "outputs": [
    {
     "name": "stdout",
     "output_type": "stream",
     "text": [
      "120000\n",
      "2010\n",
      "125\n"
     ]
    }
   ],
   "source": [
    "for i in crypto_prices.values():\n",
    "    print(i)"
   ]
  },
  {
   "cell_type": "code",
   "execution_count": 25,
   "id": "5a993f0f",
   "metadata": {},
   "outputs": [
    {
     "name": "stdout",
     "output_type": "stream",
     "text": [
      "('BTC', 120000)\n",
      "('ETH', 2010)\n",
      "('SOL', 125)\n"
     ]
    }
   ],
   "source": [
    "for i in crypto_prices.items():\n",
    "    print(i)"
   ]
  },
  {
   "cell_type": "code",
   "execution_count": 31,
   "id": "2930e891",
   "metadata": {},
   "outputs": [
    {
     "name": "stdout",
     "output_type": "stream",
     "text": [
      "[2, 4, 6, 8, 10, 12, 14, 16, 18, 20, 22, 24, 26, 28, 30, 32, 34, 36, 38, 40, 42, 44, 46, 48, 50, 52, 54, 56, 58, 60, 62, 64, 66, 68, 70, 72, 74, 76, 78, 80, 82, 84, 86, 88, 90, 92, 94, 96, 98, 100]\n"
     ]
    }
   ],
   "source": [
    "even = []\n",
    "i = 0\n",
    "while True:\n",
    "    if i>100:\n",
    "        break\n",
    "    i+=1\n",
    "    if i%2 == 0:\n",
    "        even.append(i)\n",
    "print(even)"
   ]
  },
  {
   "cell_type": "code",
   "execution_count": 32,
   "id": "71d8eb8a",
   "metadata": {},
   "outputs": [
    {
     "name": "stdout",
     "output_type": "stream",
     "text": [
      "0\n",
      "1\n",
      "3\n",
      "4\n"
     ]
    }
   ],
   "source": [
    "#continue to skip too the next iteration\n",
    "for i in range(5):\n",
    "    if i ==2:\n",
    "        continue\n",
    "    print(i)"
   ]
  }
 ],
 "metadata": {
  "kernelspec": {
   "display_name": "Python 3",
   "language": "python",
   "name": "python3"
  },
  "language_info": {
   "codemirror_mode": {
    "name": "ipython",
    "version": 3
   },
   "file_extension": ".py",
   "mimetype": "text/x-python",
   "name": "python",
   "nbconvert_exporter": "python",
   "pygments_lexer": "ipython3",
   "version": "3.12.6"
  }
 },
 "nbformat": 4,
 "nbformat_minor": 5
}
