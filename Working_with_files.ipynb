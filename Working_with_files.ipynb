{
 "cells": [
  {
   "cell_type": "markdown",
   "id": "ae96d33d",
   "metadata": {},
   "source": [
    "Opening a file"
   ]
  },
  {
   "cell_type": "code",
   "execution_count": 12,
   "id": "ed790efe",
   "metadata": {},
   "outputs": [
    {
     "name": "stdout",
     "output_type": "stream",
     "text": [
      "Hello World\n",
      "This is a new line\n",
      "\n"
     ]
    }
   ],
   "source": [
    "with open('sample.txt', 'r') as file:\n",
    "    content = file.read()\n",
    "    print(content)"
   ]
  },
  {
   "cell_type": "markdown",
   "id": "6237c43c",
   "metadata": {},
   "source": [
    "writing on a file"
   ]
  },
  {
   "cell_type": "code",
   "execution_count": 11,
   "id": "dd6af165",
   "metadata": {},
   "outputs": [],
   "source": [
    "with open('sample.txt', 'w') as file:\n",
    "    file.write('Hello World\\n')\n",
    "    file.write('This is a new line\\n')"
   ]
  },
  {
   "cell_type": "markdown",
   "id": "505496bd",
   "metadata": {},
   "source": [
    "Adding to the file"
   ]
  },
  {
   "cell_type": "code",
   "execution_count": 15,
   "id": "a0bc265b",
   "metadata": {},
   "outputs": [],
   "source": [
    "with open('sample.txt', 'a') as file:\n",
    "    file.write('Appending a new line\\n')\n",
    "    file.write('This is a new line\\n')"
   ]
  },
  {
   "cell_type": "markdown",
   "id": "2875cf86",
   "metadata": {},
   "source": [
    "Using a read and write mode"
   ]
  },
  {
   "cell_type": "code",
   "execution_count": 16,
   "id": "8aa2a114",
   "metadata": {},
   "outputs": [
    {
     "name": "stdout",
     "output_type": "stream",
     "text": [
      "Current content of the file is:\n",
      "Hello World\n",
      "This is a new line\n",
      "We are adding more content\n",
      "We are adding more content\n",
      "Appending a new line\n",
      "This is a new line\n",
      "\n"
     ]
    }
   ],
   "source": [
    "with open('sample.txt', 'r+') as file:\n",
    "    content = file.read()\n",
    "    print('Current content of the file is:')\n",
    "    print(content)\n",
    "    file.write('We are adding more content\\n')"
   ]
  },
  {
   "cell_type": "markdown",
   "id": "e33bb509",
   "metadata": {},
   "source": [
    "Working with CSV"
   ]
  },
  {
   "cell_type": "code",
   "execution_count": null,
   "id": "45ee5c83",
   "metadata": {},
   "outputs": [],
   "source": [
    "import csv\n",
    "\n",
    "#writing to csv\n",
    "with open('data.csv', 'w', newline = '') as csvfile:\n",
    "    writer = csv.writer(csvfile)\n",
    "    writer.writerow(['name', 'age', 'city'])\n",
    "    writer.writerow(['Alice', 30, 'Abuja'])\n",
    "    writer.writerow(['Nkechi', 15, 'Calabar'])"
   ]
  },
  {
   "cell_type": "code",
   "execution_count": 18,
   "id": "fd953f48",
   "metadata": {},
   "outputs": [
    {
     "name": "stdout",
     "output_type": "stream",
     "text": [
      "['name', 'age', 'city']\n",
      "['Alice', '30', 'Abuja']\n",
      "['Nkechi', '15', 'Calabar']\n"
     ]
    }
   ],
   "source": [
    "#working with the csv file\n",
    "with open('data.csv', 'r') as csvfile:\n",
    "    reader =csv.reader(csvfile)\n",
    "    for row in reader:\n",
    "        print(row)"
   ]
  },
  {
   "cell_type": "code",
   "execution_count": 19,
   "id": "4df5fff1",
   "metadata": {},
   "outputs": [
    {
     "name": "stdout",
     "output_type": "stream",
     "text": [
      "{'name': 'Alice', 'age': '30', 'city': 'Abuja'}\n",
      "{'name': 'Nkechi', 'age': '15', 'city': 'Calabar'}\n"
     ]
    }
   ],
   "source": [
    "#Reading dict\n",
    "with open('data.csv', 'r') as csvfile:\n",
    "    reader = csv.DictReader(csvfile)\n",
    "    for row in reader:\n",
    "        print(row)\n",
    "        "
   ]
  },
  {
   "cell_type": "markdown",
   "id": "b2ec1cee",
   "metadata": {},
   "source": [
    "Handling Jason Data"
   ]
  },
  {
   "cell_type": "code",
   "execution_count": 20,
   "id": "997e3a90",
   "metadata": {},
   "outputs": [],
   "source": [
    "import json\n",
    "\n",
    "#writing json file\n",
    "data = {\n",
    "    'Name': 'Muhammad',\n",
    "    'City': 'Abuja',\n",
    "    'School': 'Uni Abuja'\n",
    "}\n",
    "\n",
    "\n",
    "with open('data.json', 'w') as jsonfile:\n",
    "    json.dump(data, jsonfile, indent=4)"
   ]
  },
  {
   "cell_type": "code",
   "execution_count": 21,
   "id": "4ecef5f4",
   "metadata": {},
   "outputs": [
    {
     "name": "stdout",
     "output_type": "stream",
     "text": [
      "{'Name': 'Muhammad', 'City': 'Abuja', 'School': 'Uni Abuja'}\n"
     ]
    }
   ],
   "source": [
    "#Reading from json file\n",
    "with open('data.json', 'r') as jsonfile:\n",
    "    data = json.load(jsonfile)\n",
    "    print(data)"
   ]
  },
  {
   "cell_type": "code",
   "execution_count": null,
   "id": "7ec77244",
   "metadata": {},
   "outputs": [
    {
     "name": "stdout",
     "output_type": "stream",
     "text": [
      "{'Name': 'Muhammad', 'City': 'Abuja', 'School': 'Uni Abuja'}\n"
     ]
    }
   ],
   "source": [
    "#converting string to json dict\n",
    "\n",
    "json_string = '{\"Name\": \"Muhammad\", \"City\": \"Abuja\", \"School\": \"Uni Abuja\"}'\n",
    "data = json.loads(json_string) \n",
    "print(data)"
   ]
  },
  {
   "cell_type": "code",
   "execution_count": 30,
   "id": "47fc524d",
   "metadata": {},
   "outputs": [
    {
     "name": "stdout",
     "output_type": "stream",
     "text": [
      "{\n",
      "  \"Name\": \"Muhammad\",\n",
      "  \"City\": \"Abuja\",\n",
      "  \"School\": \"Uni Abuja\"\n",
      "}\n"
     ]
    }
   ],
   "source": [
    "#Use dump to convert python to json string with indentation\n",
    "\n",
    "data = {\n",
    "    'Name': 'Muhammad',\n",
    "    'City': 'Abuja',\n",
    "    'School': 'Uni Abuja'\n",
    "}\n",
    "json_string = json.dumps(data, indent=2)\n",
    "print(json_string)"
   ]
  }
 ],
 "metadata": {
  "kernelspec": {
   "display_name": "Python 3",
   "language": "python",
   "name": "python3"
  },
  "language_info": {
   "codemirror_mode": {
    "name": "ipython",
    "version": 3
   },
   "file_extension": ".py",
   "mimetype": "text/x-python",
   "name": "python",
   "nbconvert_exporter": "python",
   "pygments_lexer": "ipython3",
   "version": "3.12.6"
  }
 },
 "nbformat": 4,
 "nbformat_minor": 5
}
