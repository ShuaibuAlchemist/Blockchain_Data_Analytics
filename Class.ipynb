{
 "cells": [
  {
   "cell_type": "markdown",
   "id": "8a9253e0",
   "metadata": {},
   "source": [
    "Class of a Python"
   ]
  },
  {
   "cell_type": "code",
   "execution_count": 5,
   "id": "92373c39",
   "metadata": {},
   "outputs": [],
   "source": [
    "#Defining a Class and creating a cryto wallet\n",
    "class CryptoWallet:\n",
    "    def __init__(self, owner):\n",
    "        self.owner = owner\n",
    "        self.balance = {}\n",
    "\n",
    "    def deposit(self, token, amount):\n",
    "        self.balance[token] = self.balance.get(token, 0) + amount\n",
    "\n",
    "    def Withdraw(self, token, amount):\n",
    "        if self.balance.get(token, 0) >= amount:\n",
    "            self.balance[token] -= amount\n",
    "            return True\n",
    "        else:\n",
    "            return False\n",
    "    \n",
    "    def view_wallet(self):\n",
    "        return self.balance"
   ]
  },
  {
   "cell_type": "code",
   "execution_count": null,
   "id": "e7d62555",
   "metadata": {},
   "outputs": [
    {
     "name": "stdout",
     "output_type": "stream",
     "text": [
      "Withdrawal Success: True\n",
      "{'ETH': 0.6, 'BTC': 0.1}\n"
     ]
    }
   ],
   "source": [
    "#Using the class above\n",
    "\n",
    "wallet = CryptoWallet('Joseph')\n",
    "wallet.deposit('ETH', 0.7)\n",
    "wallet.deposit('BTC', 0.1)\n",
    "\n",
    "#print(wallet.view_wallet())\n",
    "\n",
    "success = wallet.Withdraw(\"ETH\", 0.1)\n",
    "print(\"Withdrawal Success:\", success)\n",
    "print(wallet.view_wallet())"
   ]
  },
  {
   "cell_type": "code",
   "execution_count": null,
   "id": "3cf21c4f",
   "metadata": {},
   "outputs": [],
   "source": [
    "#A crytocurrency class and a portfolio\n",
    "\n",
    "class Crytocurrency:\n",
    "    def __init__(self, name, price, symbol, quantity):\n",
    "        self.name = name   #e.g Bitcoin\n",
    "        self.price = price  #current price in USD\n",
    "        self.symbol = symbol # e.g BTC\n",
    "        self.quantity = quantity #amount held\n",
    "\n",
    "    def get_value(self):\n",
    "        \"\"\" Calculate the total value the user is holding\"\"\"\n",
    "        return self.price + self.quantity\n",
    "    \n",
    "    def updated_price(self, new_price):\n",
    "        \"\"\"update the price\"\"\"\n",
    "        self.price = new_price\n",
    "\n",
    "class portfolio:\n",
    "    \"\"\"Class to manage aa portfolio of crytocurrency\"\"\"\n",
    "    def __init__(self):\n",
    "        self.holdings = {} #dict to store the currency\n",
    "\n",
    "    def add_cryto(self, crypto):\n",
    "        \"\"\"add a cryptocurrency in the portfolio\"\"\"\n",
    "        self.holdings[crypto.symbol] = crypto\n",
    "\n",
    "\n",
    "    def get_total_value(self):\n",
    "        \"\"\"Calculate the total vaalue of the portfolio\"\"\"\n",
    "        total = sum(crypto.get_value() for crypto in self.holdings.values())\n",
    "        return total\n",
    "    \n",
    "    def get_holding(self, symbol):\n",
    "        \"\"\"REtrieves a cryptocurrency by its symbol\"\"\"\n",
    "        return self.holdings.get(symbol, None)\n",
    "\n"
   ]
  },
  {
   "cell_type": "code",
   "execution_count": 3,
   "id": "96bd9e28",
   "metadata": {},
   "outputs": [
    {
     "ename": "TypeError",
     "evalue": "can only concatenate str (not \"int\") to str",
     "output_type": "error",
     "traceback": [
      "\u001b[1;31m---------------------------------------------------------------------------\u001b[0m",
      "\u001b[1;31mTypeError\u001b[0m                                 Traceback (most recent call last)",
      "Cell \u001b[1;32mIn[3], line 13\u001b[0m\n\u001b[0;32m     10\u001b[0m My_portfolio\u001b[38;5;241m.\u001b[39madd_cryto(Ethereum)\n\u001b[0;32m     12\u001b[0m \u001b[38;5;66;03m#Calculate the total portfolio values:\u001b[39;00m\n\u001b[1;32m---> 13\u001b[0m total_value \u001b[38;5;241m=\u001b[39m \u001b[43mMy_portfolio\u001b[49m\u001b[38;5;241;43m.\u001b[39;49m\u001b[43mget_total_value\u001b[49m\u001b[43m(\u001b[49m\u001b[43m)\u001b[49m\n\u001b[0;32m     14\u001b[0m \u001b[38;5;28mprint\u001b[39m(\u001b[38;5;124mf\u001b[39m\u001b[38;5;124m\"\u001b[39m\u001b[38;5;124mPortfolio Total Value: $\u001b[39m\u001b[38;5;132;01m{\u001b[39;00mtotal_value\u001b[38;5;132;01m:\u001b[39;00m\u001b[38;5;124m.2f\u001b[39m\u001b[38;5;132;01m}\u001b[39;00m\u001b[38;5;124m\"\u001b[39m)\n",
      "Cell \u001b[1;32mIn[2], line 30\u001b[0m, in \u001b[0;36mportfolio.get_total_value\u001b[1;34m(self)\u001b[0m\n\u001b[0;32m     28\u001b[0m \u001b[38;5;28;01mdef\u001b[39;00m \u001b[38;5;21mget_total_value\u001b[39m(\u001b[38;5;28mself\u001b[39m):\n\u001b[0;32m     29\u001b[0m \u001b[38;5;250m    \u001b[39m\u001b[38;5;124;03m\"\"\"Calculate the total vaalue of the portfolio\"\"\"\u001b[39;00m\n\u001b[1;32m---> 30\u001b[0m     total \u001b[38;5;241m=\u001b[39m \u001b[38;5;28;43msum\u001b[39;49m\u001b[43m(\u001b[49m\u001b[43mcrypto\u001b[49m\u001b[38;5;241;43m.\u001b[39;49m\u001b[43mget_value\u001b[49m\u001b[43m(\u001b[49m\u001b[43m)\u001b[49m\u001b[43m \u001b[49m\u001b[38;5;28;43;01mfor\u001b[39;49;00m\u001b[43m \u001b[49m\u001b[43mcrypto\u001b[49m\u001b[43m \u001b[49m\u001b[38;5;129;43;01min\u001b[39;49;00m\u001b[43m \u001b[49m\u001b[38;5;28;43mself\u001b[39;49m\u001b[38;5;241;43m.\u001b[39;49m\u001b[43mholdings\u001b[49m\u001b[38;5;241;43m.\u001b[39;49m\u001b[43mvalues\u001b[49m\u001b[43m(\u001b[49m\u001b[43m)\u001b[49m\u001b[43m)\u001b[49m\n\u001b[0;32m     31\u001b[0m     \u001b[38;5;28;01mreturn\u001b[39;00m total\n",
      "Cell \u001b[1;32mIn[2], line 30\u001b[0m, in \u001b[0;36m<genexpr>\u001b[1;34m(.0)\u001b[0m\n\u001b[0;32m     28\u001b[0m \u001b[38;5;28;01mdef\u001b[39;00m \u001b[38;5;21mget_total_value\u001b[39m(\u001b[38;5;28mself\u001b[39m):\n\u001b[0;32m     29\u001b[0m \u001b[38;5;250m    \u001b[39m\u001b[38;5;124;03m\"\"\"Calculate the total vaalue of the portfolio\"\"\"\u001b[39;00m\n\u001b[1;32m---> 30\u001b[0m     total \u001b[38;5;241m=\u001b[39m \u001b[38;5;28msum\u001b[39m(\u001b[43mcrypto\u001b[49m\u001b[38;5;241;43m.\u001b[39;49m\u001b[43mget_value\u001b[49m\u001b[43m(\u001b[49m\u001b[43m)\u001b[49m \u001b[38;5;28;01mfor\u001b[39;00m crypto \u001b[38;5;129;01min\u001b[39;00m \u001b[38;5;28mself\u001b[39m\u001b[38;5;241m.\u001b[39mholdings\u001b[38;5;241m.\u001b[39mvalues())\n\u001b[0;32m     31\u001b[0m     \u001b[38;5;28;01mreturn\u001b[39;00m total\n",
      "Cell \u001b[1;32mIn[2], line 12\u001b[0m, in \u001b[0;36mCrytocurrency.get_value\u001b[1;34m(self)\u001b[0m\n\u001b[0;32m     10\u001b[0m \u001b[38;5;28;01mdef\u001b[39;00m \u001b[38;5;21mget_value\u001b[39m(\u001b[38;5;28mself\u001b[39m):\n\u001b[0;32m     11\u001b[0m \u001b[38;5;250m    \u001b[39m\u001b[38;5;124;03m\"\"\" Calculate the total value the user is holding\"\"\"\u001b[39;00m\n\u001b[1;32m---> 12\u001b[0m     \u001b[38;5;28;01mreturn\u001b[39;00m \u001b[38;5;28;43mself\u001b[39;49m\u001b[38;5;241;43m.\u001b[39;49m\u001b[43mprice\u001b[49m\u001b[43m \u001b[49m\u001b[38;5;241;43m+\u001b[39;49m\u001b[43m \u001b[49m\u001b[38;5;28;43mself\u001b[39;49m\u001b[38;5;241;43m.\u001b[39;49m\u001b[43mquantity\u001b[49m\n",
      "\u001b[1;31mTypeError\u001b[0m: can only concatenate str (not \"int\") to str"
     ]
    }
   ],
   "source": [
    "#Calling the class\n",
    "\n",
    "#creating the cryptocurrency objects\n",
    "Bitcoin = Crytocurrency('Bitcoin', 'BTC', 117000, 1)\n",
    "Ethereum = Crytocurrency('Ethereum', 'ETH', 500, 0.4)\n",
    "\n",
    "#creating the portfolio objects\n",
    "My_portfolio =portfolio()\n",
    "My_portfolio.add_cryto(Bitcoin)\n",
    "My_portfolio.add_cryto(Ethereum)\n",
    "\n",
    "#Calculate the total portfolio values:\n",
    "total_value = My_portfolio.get_total_value()\n",
    "print(f\"Portfolio Total Value: ${total_value:.2f}\")"
   ]
  }
 ],
 "metadata": {
  "kernelspec": {
   "display_name": "Python 3",
   "language": "python",
   "name": "python3"
  },
  "language_info": {
   "codemirror_mode": {
    "name": "ipython",
    "version": 3
   },
   "file_extension": ".py",
   "mimetype": "text/x-python",
   "name": "python",
   "nbconvert_exporter": "python",
   "pygments_lexer": "ipython3",
   "version": "3.12.6"
  }
 },
 "nbformat": 4,
 "nbformat_minor": 5
}
