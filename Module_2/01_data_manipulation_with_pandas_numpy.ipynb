{
 "cells": [
  {
   "cell_type": "markdown",
   "id": "ffb2aa30",
   "metadata": {},
   "source": [
    "Using Pandas for Data Manipulation and Analysing"
   ]
  },
  {
   "cell_type": "markdown",
   "id": "e0d46d50",
   "metadata": {},
   "source": [
    "Creating a DataFrame"
   ]
  },
  {
   "cell_type": "code",
   "execution_count": 10,
   "id": "a5b41409",
   "metadata": {},
   "outputs": [
    {
     "data": {
      "text/html": [
       "<div>\n",
       "<style scoped>\n",
       "    .dataframe tbody tr th:only-of-type {\n",
       "        vertical-align: middle;\n",
       "    }\n",
       "\n",
       "    .dataframe tbody tr th {\n",
       "        vertical-align: top;\n",
       "    }\n",
       "\n",
       "    .dataframe thead th {\n",
       "        text-align: right;\n",
       "    }\n",
       "</style>\n",
       "<table border=\"1\" class=\"dataframe\">\n",
       "  <thead>\n",
       "    <tr style=\"text-align: right;\">\n",
       "      <th></th>\n",
       "      <th>Coin</th>\n",
       "      <th>Price</th>\n",
       "      <th>Volume</th>\n",
       "    </tr>\n",
       "  </thead>\n",
       "  <tbody>\n",
       "    <tr>\n",
       "      <th>0</th>\n",
       "      <td>Bitcoin</td>\n",
       "      <td>45000.00</td>\n",
       "      <td>15000</td>\n",
       "    </tr>\n",
       "    <tr>\n",
       "      <th>1</th>\n",
       "      <td>Ethereum</td>\n",
       "      <td>3000.00</td>\n",
       "      <td>nan</td>\n",
       "    </tr>\n",
       "    <tr>\n",
       "      <th>2</th>\n",
       "      <td>Ripple</td>\n",
       "      <td>0.84</td>\n",
       "      <td>200000</td>\n",
       "    </tr>\n",
       "    <tr>\n",
       "      <th>3</th>\n",
       "      <td>Litecoin</td>\n",
       "      <td>120.00</td>\n",
       "      <td>50000</td>\n",
       "    </tr>\n",
       "  </tbody>\n",
       "</table>\n",
       "</div>"
      ],
      "text/plain": [
       "       Coin     Price  Volume\n",
       "0   Bitcoin  45000.00   15000\n",
       "1  Ethereum   3000.00     nan\n",
       "2    Ripple      0.84  200000\n",
       "3  Litecoin    120.00   50000"
      ]
     },
     "execution_count": 10,
     "metadata": {},
     "output_type": "execute_result"
    }
   ],
   "source": [
    "import pandas as pd\n",
    "\n",
    "#Creating a dictionary\n",
    "data = {\n",
    "    'Coin': ['Bitcoin', 'Ethereum', 'Ripple', 'Litecoin'], \n",
    "    'Price': [45000, 3000, 0.84, 120],\n",
    "    'Volume': [15000, 'nan', 200000, 50000]\n",
    "}\n",
    "\n",
    "df = pd.DataFrame(data)\n",
    "df"
   ]
  },
  {
   "cell_type": "markdown",
   "id": "53531057",
   "metadata": {},
   "source": [
    "Exploring the Data"
   ]
  },
  {
   "cell_type": "code",
   "execution_count": 3,
   "id": "48af6056",
   "metadata": {},
   "outputs": [
    {
     "data": {
      "text/html": [
       "<div>\n",
       "<style scoped>\n",
       "    .dataframe tbody tr th:only-of-type {\n",
       "        vertical-align: middle;\n",
       "    }\n",
       "\n",
       "    .dataframe tbody tr th {\n",
       "        vertical-align: top;\n",
       "    }\n",
       "\n",
       "    .dataframe thead th {\n",
       "        text-align: right;\n",
       "    }\n",
       "</style>\n",
       "<table border=\"1\" class=\"dataframe\">\n",
       "  <thead>\n",
       "    <tr style=\"text-align: right;\">\n",
       "      <th></th>\n",
       "      <th>Coin</th>\n",
       "      <th>Price</th>\n",
       "      <th>Volume</th>\n",
       "    </tr>\n",
       "  </thead>\n",
       "  <tbody>\n",
       "    <tr>\n",
       "      <th>0</th>\n",
       "      <td>Bitcoin</td>\n",
       "      <td>45000.0</td>\n",
       "      <td>15000</td>\n",
       "    </tr>\n",
       "    <tr>\n",
       "      <th>1</th>\n",
       "      <td>Ethereum</td>\n",
       "      <td>3000.0</td>\n",
       "      <td>8000</td>\n",
       "    </tr>\n",
       "  </tbody>\n",
       "</table>\n",
       "</div>"
      ],
      "text/plain": [
       "       Coin    Price  Volume\n",
       "0   Bitcoin  45000.0   15000\n",
       "1  Ethereum   3000.0    8000"
      ]
     },
     "execution_count": 3,
     "metadata": {},
     "output_type": "execute_result"
    }
   ],
   "source": [
    "df.head(2)"
   ]
  },
  {
   "cell_type": "code",
   "execution_count": 4,
   "id": "e1c2e4d5",
   "metadata": {},
   "outputs": [
    {
     "data": {
      "text/html": [
       "<div>\n",
       "<style scoped>\n",
       "    .dataframe tbody tr th:only-of-type {\n",
       "        vertical-align: middle;\n",
       "    }\n",
       "\n",
       "    .dataframe tbody tr th {\n",
       "        vertical-align: top;\n",
       "    }\n",
       "\n",
       "    .dataframe thead th {\n",
       "        text-align: right;\n",
       "    }\n",
       "</style>\n",
       "<table border=\"1\" class=\"dataframe\">\n",
       "  <thead>\n",
       "    <tr style=\"text-align: right;\">\n",
       "      <th></th>\n",
       "      <th>Coin</th>\n",
       "      <th>Price</th>\n",
       "      <th>Volume</th>\n",
       "    </tr>\n",
       "  </thead>\n",
       "  <tbody>\n",
       "    <tr>\n",
       "      <th>2</th>\n",
       "      <td>Ripple</td>\n",
       "      <td>0.84</td>\n",
       "      <td>200000</td>\n",
       "    </tr>\n",
       "    <tr>\n",
       "      <th>3</th>\n",
       "      <td>Litecoin</td>\n",
       "      <td>120.00</td>\n",
       "      <td>50000</td>\n",
       "    </tr>\n",
       "  </tbody>\n",
       "</table>\n",
       "</div>"
      ],
      "text/plain": [
       "       Coin   Price  Volume\n",
       "2    Ripple    0.84  200000\n",
       "3  Litecoin  120.00   50000"
      ]
     },
     "execution_count": 4,
     "metadata": {},
     "output_type": "execute_result"
    }
   ],
   "source": [
    "df.tail(2)"
   ]
  },
  {
   "cell_type": "code",
   "execution_count": null,
   "id": "2b3969b4",
   "metadata": {},
   "outputs": [
    {
     "name": "stdout",
     "output_type": "stream",
     "text": [
      "<class 'pandas.core.frame.DataFrame'>\n",
      "RangeIndex: 4 entries, 0 to 3\n",
      "Data columns (total 3 columns):\n",
      " #   Column  Non-Null Count  Dtype  \n",
      "---  ------  --------------  -----  \n",
      " 0   Coin    4 non-null      object \n",
      " 1   Price   4 non-null      float64\n",
      " 2   Volume  4 non-null      object \n",
      "dtypes: float64(1), object(2)\n",
      "memory usage: 228.0+ bytes\n",
      "None\n"
     ]
    }
   ],
   "source": [
    "#To get basic information\n",
    "print(df.info())"
   ]
  },
  {
   "cell_type": "markdown",
   "id": "4a9b1cce",
   "metadata": {},
   "source": [
    "Basic Data Manipulation"
   ]
  },
  {
   "cell_type": "code",
   "execution_count": 14,
   "id": "293dcf84",
   "metadata": {},
   "outputs": [
    {
     "name": "stdout",
     "output_type": "stream",
     "text": [
      "       Coin     Price\n",
      "0   Bitcoin  45000.00\n",
      "1  Ethereum   3000.00\n",
      "2    Ripple      0.84\n",
      "3  Litecoin    120.00\n"
     ]
    }
   ],
   "source": [
    "print(df[['Coin', 'Price']])"
   ]
  },
  {
   "cell_type": "markdown",
   "id": "e5c45083",
   "metadata": {},
   "source": [
    "Filtering Rows"
   ]
  },
  {
   "cell_type": "code",
   "execution_count": 16,
   "id": "14a43ca2",
   "metadata": {},
   "outputs": [
    {
     "name": "stdout",
     "output_type": "stream",
     "text": [
      "       Coin    Price Volume\n",
      "0   Bitcoin  45000.0  15000\n",
      "1  Ethereum   3000.0    nan\n",
      "3  Litecoin    120.0  50000\n"
     ]
    }
   ],
   "source": [
    "print(df[df['Price'] > 100])"
   ]
  },
  {
   "cell_type": "markdown",
   "id": "4ba23ec9",
   "metadata": {},
   "source": [
    "Sorting Data"
   ]
  },
  {
   "cell_type": "code",
   "execution_count": null,
   "id": "abf47025",
   "metadata": {},
   "outputs": [
    {
     "name": "stdout",
     "output_type": "stream",
     "text": [
      "       Coin     Price  Volume\n",
      "2    Ripple      0.84  200000\n",
      "3  Litecoin    120.00   50000\n",
      "1  Ethereum   3000.00     nan\n",
      "0   Bitcoin  45000.00   15000\n"
     ]
    }
   ],
   "source": [
    "print(df.sort_values('Price')) #sorting in ascending order"
   ]
  },
  {
   "cell_type": "code",
   "execution_count": 20,
   "id": "8e2fd979",
   "metadata": {},
   "outputs": [
    {
     "name": "stdout",
     "output_type": "stream",
     "text": [
      "       Coin     Price  Volume\n",
      "2    Ripple      0.84  200000\n",
      "3  Litecoin    120.00   50000\n",
      "1  Ethereum   3000.00     nan\n",
      "0   Bitcoin  45000.00   15000\n"
     ]
    }
   ],
   "source": [
    "print(df.sort_values('Coin', ascending = False))"
   ]
  },
  {
   "cell_type": "markdown",
   "id": "657b5047",
   "metadata": {},
   "source": [
    "Adding new column"
   ]
  },
  {
   "cell_type": "code",
   "execution_count": 21,
   "id": "1db89e14",
   "metadata": {},
   "outputs": [
    {
     "data": {
      "text/html": [
       "<div>\n",
       "<style scoped>\n",
       "    .dataframe tbody tr th:only-of-type {\n",
       "        vertical-align: middle;\n",
       "    }\n",
       "\n",
       "    .dataframe tbody tr th {\n",
       "        vertical-align: top;\n",
       "    }\n",
       "\n",
       "    .dataframe thead th {\n",
       "        text-align: right;\n",
       "    }\n",
       "</style>\n",
       "<table border=\"1\" class=\"dataframe\">\n",
       "  <thead>\n",
       "    <tr style=\"text-align: right;\">\n",
       "      <th></th>\n",
       "      <th>Coin</th>\n",
       "      <th>Price</th>\n",
       "      <th>Volume</th>\n",
       "      <th>Price_after_2</th>\n",
       "    </tr>\n",
       "  </thead>\n",
       "  <tbody>\n",
       "    <tr>\n",
       "      <th>0</th>\n",
       "      <td>Bitcoin</td>\n",
       "      <td>45000.00</td>\n",
       "      <td>15000</td>\n",
       "      <td>45900.0000</td>\n",
       "    </tr>\n",
       "    <tr>\n",
       "      <th>1</th>\n",
       "      <td>Ethereum</td>\n",
       "      <td>3000.00</td>\n",
       "      <td>nan</td>\n",
       "      <td>3060.0000</td>\n",
       "    </tr>\n",
       "    <tr>\n",
       "      <th>2</th>\n",
       "      <td>Ripple</td>\n",
       "      <td>0.84</td>\n",
       "      <td>200000</td>\n",
       "      <td>0.8568</td>\n",
       "    </tr>\n",
       "    <tr>\n",
       "      <th>3</th>\n",
       "      <td>Litecoin</td>\n",
       "      <td>120.00</td>\n",
       "      <td>50000</td>\n",
       "      <td>122.4000</td>\n",
       "    </tr>\n",
       "  </tbody>\n",
       "</table>\n",
       "</div>"
      ],
      "text/plain": [
       "       Coin     Price  Volume  Price_after_2\n",
       "0   Bitcoin  45000.00   15000     45900.0000\n",
       "1  Ethereum   3000.00     nan      3060.0000\n",
       "2    Ripple      0.84  200000         0.8568\n",
       "3  Litecoin    120.00   50000       122.4000"
      ]
     },
     "execution_count": 21,
     "metadata": {},
     "output_type": "execute_result"
    }
   ],
   "source": [
    "df['Price_after_2'] = df['Price'] * 1.02\n",
    "df"
   ]
  },
  {
   "cell_type": "code",
   "execution_count": 22,
   "id": "600cffb6",
   "metadata": {},
   "outputs": [
    {
     "data": {
      "text/html": [
       "<div>\n",
       "<style scoped>\n",
       "    .dataframe tbody tr th:only-of-type {\n",
       "        vertical-align: middle;\n",
       "    }\n",
       "\n",
       "    .dataframe tbody tr th {\n",
       "        vertical-align: top;\n",
       "    }\n",
       "\n",
       "    .dataframe thead th {\n",
       "        text-align: right;\n",
       "    }\n",
       "</style>\n",
       "<table border=\"1\" class=\"dataframe\">\n",
       "  <thead>\n",
       "    <tr style=\"text-align: right;\">\n",
       "      <th></th>\n",
       "      <th>Price</th>\n",
       "      <th>Price_after_2</th>\n",
       "    </tr>\n",
       "  </thead>\n",
       "  <tbody>\n",
       "    <tr>\n",
       "      <th>count</th>\n",
       "      <td>4.000000</td>\n",
       "      <td>4.000000</td>\n",
       "    </tr>\n",
       "    <tr>\n",
       "      <th>mean</th>\n",
       "      <td>12030.210000</td>\n",
       "      <td>12270.814200</td>\n",
       "    </tr>\n",
       "    <tr>\n",
       "      <th>std</th>\n",
       "      <td>22023.552469</td>\n",
       "      <td>22464.023519</td>\n",
       "    </tr>\n",
       "    <tr>\n",
       "      <th>min</th>\n",
       "      <td>0.840000</td>\n",
       "      <td>0.856800</td>\n",
       "    </tr>\n",
       "    <tr>\n",
       "      <th>25%</th>\n",
       "      <td>90.210000</td>\n",
       "      <td>92.014200</td>\n",
       "    </tr>\n",
       "    <tr>\n",
       "      <th>50%</th>\n",
       "      <td>1560.000000</td>\n",
       "      <td>1591.200000</td>\n",
       "    </tr>\n",
       "    <tr>\n",
       "      <th>75%</th>\n",
       "      <td>13500.000000</td>\n",
       "      <td>13770.000000</td>\n",
       "    </tr>\n",
       "    <tr>\n",
       "      <th>max</th>\n",
       "      <td>45000.000000</td>\n",
       "      <td>45900.000000</td>\n",
       "    </tr>\n",
       "  </tbody>\n",
       "</table>\n",
       "</div>"
      ],
      "text/plain": [
       "              Price  Price_after_2\n",
       "count      4.000000       4.000000\n",
       "mean   12030.210000   12270.814200\n",
       "std    22023.552469   22464.023519\n",
       "min        0.840000       0.856800\n",
       "25%       90.210000      92.014200\n",
       "50%     1560.000000    1591.200000\n",
       "75%    13500.000000   13770.000000\n",
       "max    45000.000000   45900.000000"
      ]
     },
     "execution_count": 22,
     "metadata": {},
     "output_type": "execute_result"
    }
   ],
   "source": [
    "df.describe()"
   ]
  },
  {
   "cell_type": "markdown",
   "id": "f020db08",
   "metadata": {},
   "source": [
    "saving and  loading with pandas"
   ]
  },
  {
   "cell_type": "code",
   "execution_count": 24,
   "id": "c43516a3",
   "metadata": {},
   "outputs": [],
   "source": [
    "df.to_csv('crypto_data.csv', index = False)"
   ]
  },
  {
   "cell_type": "markdown",
   "id": "833d4bf4",
   "metadata": {},
   "source": [
    "Working with Numpy"
   ]
  },
  {
   "cell_type": "code",
   "execution_count": 27,
   "id": "815236b1",
   "metadata": {},
   "outputs": [
    {
     "name": "stdout",
     "output_type": "stream",
     "text": [
      "[45000 50000  4000 20000]\n"
     ]
    }
   ],
   "source": [
    "import numpy as np\n",
    "\n",
    "#creating a numpy array\n",
    "\n",
    "prices = np.array([45000, 50000, 4000, 20000])\n",
    "print(prices)"
   ]
  },
  {
   "cell_type": "code",
   "execution_count": 29,
   "id": "5599725a",
   "metadata": {},
   "outputs": [
    {
     "name": "stdout",
     "output_type": "stream",
     "text": [
      "(4,)\n",
      "\n",
      "int64\n"
     ]
    }
   ],
   "source": [
    "print(prices.shape) #checking the shape\n",
    " \n",
    "print('') \n",
    "\n",
    "print(prices.dtype) #toget the data type"
   ]
  },
  {
   "cell_type": "markdown",
   "id": "88b4cd18",
   "metadata": {},
   "source": [
    "Basic Data Manipulation"
   ]
  },
  {
   "cell_type": "code",
   "execution_count": 30,
   "id": "b5446861",
   "metadata": {},
   "outputs": [
    {
     "name": "stdout",
     "output_type": "stream",
     "text": [
      "[46000 51000  5000 21000]\n"
     ]
    }
   ],
   "source": [
    "#To add 1000 to all prices\n",
    "prices_plus_100 = prices + 1000\n",
    "print(prices_plus_100) "
   ]
  },
  {
   "cell_type": "code",
   "execution_count": 31,
   "id": "f70460f1",
   "metadata": {},
   "outputs": [
    {
     "name": "stdout",
     "output_type": "stream",
     "text": [
      "[46001.02 51001.02  5001.02 21001.02]\n"
     ]
    }
   ],
   "source": [
    "#To compute for 2percent increase in price\n",
    "\n",
    "price_new = np.array([46000, 51000,  5000, 21000])\n",
    "price_increase = price_new + 1.02\n",
    "print(price_increase)"
   ]
  },
  {
   "cell_type": "code",
   "execution_count": 32,
   "id": "03fff0e5",
   "metadata": {},
   "outputs": [
    {
     "name": "stdout",
     "output_type": "stream",
     "text": [
      "[46000 51000  5000 21000]\n"
     ]
    }
   ],
   "source": [
    "#filtering data\n",
    "higher_prices = price_new[price_new > 1000] \n",
    "\n",
    "print(higher_prices)"
   ]
  },
  {
   "cell_type": "markdown",
   "id": "8e203523",
   "metadata": {},
   "source": [
    "Basic Statistical Method in Numpy"
   ]
  },
  {
   "cell_type": "code",
   "execution_count": 34,
   "id": "846419a1",
   "metadata": {},
   "outputs": [
    {
     "name": "stdout",
     "output_type": "stream",
     "text": [
      "Print the Statistics for Volume\n",
      "Mean: 275000.0\n",
      "Minimum Volume: 100000\n",
      "Maximum Volume 500000\n",
      "Volatility (Standard Deviation): 147901.9945774904\n"
     ]
    }
   ],
   "source": [
    "volume = np.array([500000, 300000, 200000, 100000])\n",
    "print('Print the Statistics for Volume')\n",
    "print('Mean:', np.mean(volume))\n",
    "print('Minimum Volume:', np.min(volume))\n",
    "print('Maximum Volume', np.max(volume))\n",
    "print('Volatility (Standard Deviation):', np.std(volume))"
   ]
  },
  {
   "cell_type": "markdown",
   "id": "a38c50c3",
   "metadata": {},
   "source": [
    "Working with a 2D array"
   ]
  },
  {
   "cell_type": "code",
   "execution_count": 37,
   "id": "63af5326",
   "metadata": {},
   "outputs": [
    {
     "name": "stdout",
     "output_type": "stream",
     "text": [
      "[[45000   500]\n",
      " [30000 28000]\n",
      " [70000  5600]]\n"
     ]
    }
   ],
   "source": [
    "crypto_data = np.array([\n",
    "    [45000, 500],\n",
    "    [30000, 28000],\n",
    "    [70000, 5600]\n",
    "    ])\n",
    "\n",
    "print(crypto_data)"
   ]
  },
  {
   "cell_type": "code",
   "execution_count": null,
   "id": "0d228c4d",
   "metadata": {},
   "outputs": [
    {
     "data": {
      "text/plain": [
       "array([[45000,   500],\n",
       "       [70000,  5600]])"
      ]
     },
     "execution_count": 46,
     "metadata": {},
     "output_type": "execute_result"
    }
   ],
   "source": [
    "#Assessing rows\n",
    "crypto_data[::2]"
   ]
  }
 ],
 "metadata": {
  "kernelspec": {
   "display_name": "Python 3",
   "language": "python",
   "name": "python3"
  },
  "language_info": {
   "codemirror_mode": {
    "name": "ipython",
    "version": 3
   },
   "file_extension": ".py",
   "mimetype": "text/x-python",
   "name": "python",
   "nbconvert_exporter": "python",
   "pygments_lexer": "ipython3",
   "version": "3.12.6"
  }
 },
 "nbformat": 4,
 "nbformat_minor": 5
}
