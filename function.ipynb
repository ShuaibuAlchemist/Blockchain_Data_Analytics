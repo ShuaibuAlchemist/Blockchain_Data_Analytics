{
 "cells": [
  {
   "cell_type": "markdown",
   "id": "a4ace6a5",
   "metadata": {},
   "source": [
    "# Funtions in Python"
   ]
  },
  {
   "cell_type": "code",
   "execution_count": 1,
   "id": "e6a3ff94",
   "metadata": {},
   "outputs": [
    {
     "name": "stdout",
     "output_type": "stream",
     "text": [
      "Name Muhammad\n",
      "Age 50\n"
     ]
    }
   ],
   "source": [
    "def add_keyword(Name = \"Alice\", Age = 30):\n",
    "    print(\"Name\", Name)\n",
    "    print(\"Age\", Age)\n",
    "\n",
    "add_keyword(\"Muhammad\", 50)"
   ]
  },
  {
   "cell_type": "code",
   "execution_count": 3,
   "id": "659da758",
   "metadata": {},
   "outputs": [
    {
     "name": "stdout",
     "output_type": "stream",
     "text": [
      "<class 'tuple'>\n",
      "1 2 3 4 5 7 "
     ]
    }
   ],
   "source": [
    "def add_args(*args):\n",
    "    print(type(args))\n",
    "    for num in args:\n",
    "        print(num, end=\" \")\n",
    "\n",
    "add_args(1,2,3,4,5,7)"
   ]
  },
  {
   "cell_type": "code",
   "execution_count": 5,
   "id": "f8253928",
   "metadata": {},
   "outputs": [
    {
     "name": "stdout",
     "output_type": "stream",
     "text": [
      "<class 'dict'>\n",
      "Name: David\n",
      "age: 35\n",
      "city: New York\n"
     ]
    }
   ],
   "source": [
    "def add_kwargs(**kwargs):\n",
    "    print(type(kwargs))\n",
    "    for key, value in kwargs.items():\n",
    "        print(f\"{key}: {value}\")\n",
    "\n",
    "add_kwargs(Name =\"David\", age=35, city= \"New York\")"
   ]
  },
  {
   "cell_type": "code",
   "execution_count": 9,
   "id": "d1812258",
   "metadata": {},
   "outputs": [
    {
     "name": "stdout",
     "output_type": "stream",
     "text": [
      "BTC price change is: -20.0%\n"
     ]
    }
   ],
   "source": [
    "def calculate_price_change(old_price, new_price):\n",
    "    change = ((old_price-new_price)/old_price) * 100\n",
    "    return round(change, 2)\n",
    "\n",
    "BTC_change = calculate_price_change(100000, 120000)\n",
    "print(f\"BTC price change is: {BTC_change}%\")"
   ]
  },
  {
   "cell_type": "code",
   "execution_count": null,
   "id": "4aba596b",
   "metadata": {},
   "outputs": [
    {
     "name": "stdout",
     "output_type": "stream",
     "text": [
      "Bitcoin is currently trading at $ 11,000.00\n",
      "Ethereum is currently trading at £ 10,000.00\n"
     ]
    }
   ],
   "source": [
    "def format_cryto_price(name, price, symbol = \"$\"):\n",
    "    return f\"{name} is currently trading at {symbol} {price:,.2f}\"\n",
    "\n",
    "print(format_cryto_price(\"Bitcoin\", 11000))\n",
    "print(format_cryto_price(\"Ethereum\", 10000, \"£\"))"
   ]
  }
 ],
 "metadata": {
  "kernelspec": {
   "display_name": "Python 3",
   "language": "python",
   "name": "python3"
  },
  "language_info": {
   "codemirror_mode": {
    "name": "ipython",
    "version": 3
   },
   "file_extension": ".py",
   "mimetype": "text/x-python",
   "name": "python",
   "nbconvert_exporter": "python",
   "pygments_lexer": "ipython3",
   "version": "3.12.6"
  }
 },
 "nbformat": 4,
 "nbformat_minor": 5
}
